{
  "cells": [
    {
      "cell_type": "markdown",
      "id": "14cd6cc8",
      "metadata": {
        "id": "14cd6cc8"
      },
      "source": [
        "# 🎤 Nari Dia TTS - Colab Notebook\n",
        "\n",
        "This notebook runs the [Nari Dia TTS](https://github.com/nari-labs/dia) model from the `nari-dia-colab` fork. It is designed to run in Google Colab using a T4 GPU and avoids AMP-related dtype errors by forcing float32 precision.\n",
        "\n",
        "---\n",
        "\n",
        "## 📌 How to Use\n",
        "\n",
        "1. Go to **Runtime > Change runtime type** and set the Hardware Accelerator to `GPU`\n",
        "2. Click **File > Save a copy in Drive** to keep your own version\n",
        "3. Run each cell in order (Shift + Enter)\n",
        "4. When the app launches, click the `gradio.live` link to interact\n",
        "    - Provide text prompts like `[S1] Hello [S2] How are you?`\n",
        "    - Optionally upload an audio clip to condition the voice\n",
        "5. Press the stop button or `Runtime > Factory reset runtime` to disconnect\n",
        "\n",
        "---\n",
        "\n",
        "## ⚙️ Environment Setup\n"
      ]
    },
    {
      "cell_type": "code",
      "execution_count": null,
      "id": "d616534c",
      "metadata": {
        "id": "d616534c"
      },
      "outputs": [],
      "source": [
        "# Check GPU (should show T4 or compatible)\n",
        "!nvidia-smi"
      ]
    },
    {
      "cell_type": "code",
      "execution_count": null,
      "id": "1e868456",
      "metadata": {
        "id": "1e868456"
      },
      "outputs": [],
      "source": [
        "# Clone the Colab-compatible fork\n",
        "!git clone https://github.com/arcaneum/nari-dia-colab.git\n",
        "%cd nari-dia-colab"
      ]
    },
    {
      "cell_type": "code",
      "execution_count": null,
      "id": "0da901da",
      "metadata": {
        "id": "0da901da"
      },
      "outputs": [],
      "source": [
        "# Reinstall PyTorch with T4-compatible CUDA 11.8\n",
        "!pip uninstall -y torch torchvision torchaudio -y\n",
        "!pip install torch==2.1.0 torchvision==0.16.0 torchaudio==2.1.0 --index-url https://download.pytorch.org/whl/cu118"
      ]
    },
    {
      "cell_type": "code",
      "execution_count": null,
      "id": "8ca38135",
      "metadata": {
        "id": "8ca38135"
      },
      "outputs": [],
      "source": [
        "# Install the fork in editable mode\n",
        "!pip install -e ."
      ]
    },
    {
      "cell_type": "code",
      "execution_count": null,
      "id": "c267da3c",
      "metadata": {
        "id": "c267da3c"
      },
      "outputs": [],
      "source": [
        "# Launch the Gradio interface\n",
        "!python app.py --share"
      ]
    },
    {
      "cell_type": "code",
      "source": [
        "import soundfile as sf\n",
        "\n",
        "from dia.model import Dia\n",
        "\n",
        "\n",
        "model = Dia.from_pretrained(\"nari-labs/Dia-1.6B\")\n",
        "\n",
        "text = \"[S1] Dia is an open weights text to dialogue model. [S2] You get full control over scripts and voices. [S1] Wow. Amazing. (laughs) [S2] Try it now on Git hub or Hugging Face.\"\n",
        "\n",
        "output = model.generate(text)\n",
        "\n",
        "sf.write(\"simple.mp3\", output, 44100)"
      ],
      "metadata": {
        "id": "q6cKFD0He7CW"
      },
      "id": "q6cKFD0He7CW",
      "execution_count": null,
      "outputs": []
    },
    {
      "cell_type": "markdown",
      "id": "03f08932",
      "metadata": {
        "id": "03f08932"
      },
      "source": [
        "---\n",
        "\n",
        "## 🙋 Maintainer\n",
        "\n",
        "Created by **Anil Clifford**  \n",
        "→ [@arcaneum](https://github.com/arcaneum) | [EdenDigitalUK](https://github.com/EdenDigitalUK)  \n",
        "→ [edendigital.io](https://www.edendigital.io)  \n",
        "→ [LinkedIn](https://www.linkedin.com/in/anilcliff/) | [Twitter/X](https://x.com/anil_clifford)\n",
        "\n",
        "---\n",
        "\n",
        "## 📜 License\n",
        "\n",
        "This notebook is part of the [nari-dia-colab](https://github.com/arcaneum/nari-dia-colab) fork.  \n",
        "Apache 2.0 — based on the original open-source Dia model by Nari Labs.\n"
      ]
    }
  ],
  "metadata": {
    "colab": {
      "provenance": [],
      "gpuType": "T4"
    },
    "accelerator": "GPU"
  },
  "nbformat": 4,
  "nbformat_minor": 5
}